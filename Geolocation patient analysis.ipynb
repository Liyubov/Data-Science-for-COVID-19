{
 "cells": [
  {
   "cell_type": "markdown",
   "metadata": {},
   "source": [
    "# Geolocation of patients\n",
    "\n",
    "In this notebook we will investigate 3 datasets sourced from Kaggle based on the the Coronavirus in Korea up to March 22, 2020.\n",
    "\n",
    "The dataset may be updated on the Kaggle however, we will be specifically investigating the impact up to March 5, 2020. We will begin with getting the summary of the each dataset, take a look at how these datasets look visually, and perform further analysis. \n",
    "\n",
    "Our **primary goal** is to understand the severity of Coronacirus in Korea as of end of March, 2020. \n",
    "Our **secondary goal** is to understand route patterns of patients and their move patterns.\n",
    "\n",
    "The datasets we have are patient.csv, route.csv, and time.csv. Each dataset will give us different perspectives of the impact of the Coronavirus.\n",
    "\n",
    "Kaggle link\n",
    "https://www.kaggle.com/kimjihoo/coronavirusdataset/tasks\n"
   ]
  },
  {
   "cell_type": "code",
   "execution_count": 1,
   "metadata": {},
   "outputs": [],
   "source": [
    "import numpy as np\n",
    "import pandas as pd\n",
    "import matplotlib.pyplot as plt"
   ]
  },
  {
   "cell_type": "code",
   "execution_count": 7,
   "metadata": {},
   "outputs": [
    {
     "data": {
      "text/html": [
       "<div>\n",
       "<style scoped>\n",
       "    .dataframe tbody tr th:only-of-type {\n",
       "        vertical-align: middle;\n",
       "    }\n",
       "\n",
       "    .dataframe tbody tr th {\n",
       "        vertical-align: top;\n",
       "    }\n",
       "\n",
       "    .dataframe thead th {\n",
       "        text-align: right;\n",
       "    }\n",
       "</style>\n",
       "<table border=\"1\" class=\"dataframe\">\n",
       "  <thead>\n",
       "    <tr style=\"text-align: right;\">\n",
       "      <th></th>\n",
       "      <th>patient_id</th>\n",
       "      <th>global_num</th>\n",
       "      <th>date</th>\n",
       "      <th>province</th>\n",
       "      <th>city</th>\n",
       "      <th>latitude</th>\n",
       "      <th>longitude</th>\n",
       "    </tr>\n",
       "  </thead>\n",
       "  <tbody>\n",
       "    <tr>\n",
       "      <th>0</th>\n",
       "      <td>1400000001</td>\n",
       "      <td>1</td>\n",
       "      <td>2020-01-19</td>\n",
       "      <td>Incheon</td>\n",
       "      <td>Jung-gu</td>\n",
       "      <td>37.460459</td>\n",
       "      <td>126.440680</td>\n",
       "    </tr>\n",
       "    <tr>\n",
       "      <th>1</th>\n",
       "      <td>1400000001</td>\n",
       "      <td>1</td>\n",
       "      <td>2020-01-20</td>\n",
       "      <td>Incheon</td>\n",
       "      <td>Seo-gu</td>\n",
       "      <td>37.478832</td>\n",
       "      <td>126.668558</td>\n",
       "    </tr>\n",
       "    <tr>\n",
       "      <th>2</th>\n",
       "      <td>1000000001</td>\n",
       "      <td>2</td>\n",
       "      <td>2020-01-22</td>\n",
       "      <td>Gyeonggi-do</td>\n",
       "      <td>Gimpo-si</td>\n",
       "      <td>37.562143</td>\n",
       "      <td>126.801884</td>\n",
       "    </tr>\n",
       "    <tr>\n",
       "      <th>3</th>\n",
       "      <td>1000000001</td>\n",
       "      <td>2</td>\n",
       "      <td>2020-01-23</td>\n",
       "      <td>Seoul</td>\n",
       "      <td>Jung-gu</td>\n",
       "      <td>37.567454</td>\n",
       "      <td>127.005627</td>\n",
       "    </tr>\n",
       "    <tr>\n",
       "      <th>4</th>\n",
       "      <td>2000000001</td>\n",
       "      <td>3</td>\n",
       "      <td>2020-01-20</td>\n",
       "      <td>Incheon</td>\n",
       "      <td>Jung-gu</td>\n",
       "      <td>37.460459</td>\n",
       "      <td>126.440680</td>\n",
       "    </tr>\n",
       "    <tr>\n",
       "      <th>5</th>\n",
       "      <td>2000000001</td>\n",
       "      <td>3</td>\n",
       "      <td>2020-01-22</td>\n",
       "      <td>Seoul</td>\n",
       "      <td>Gangnam-gu</td>\n",
       "      <td>37.524978</td>\n",
       "      <td>127.027718</td>\n",
       "    </tr>\n",
       "    <tr>\n",
       "      <th>6</th>\n",
       "      <td>2000000001</td>\n",
       "      <td>3</td>\n",
       "      <td>2020-01-22</td>\n",
       "      <td>Seoul</td>\n",
       "      <td>Gangnam-gu</td>\n",
       "      <td>37.503359</td>\n",
       "      <td>127.049177</td>\n",
       "    </tr>\n",
       "    <tr>\n",
       "      <th>7</th>\n",
       "      <td>2000000001</td>\n",
       "      <td>3</td>\n",
       "      <td>2020-01-23</td>\n",
       "      <td>Seoul</td>\n",
       "      <td>Gangnam-gu</td>\n",
       "      <td>37.524669</td>\n",
       "      <td>127.015911</td>\n",
       "    </tr>\n",
       "    <tr>\n",
       "      <th>8</th>\n",
       "      <td>2000000001</td>\n",
       "      <td>3</td>\n",
       "      <td>2020-01-23</td>\n",
       "      <td>Seoul</td>\n",
       "      <td>Gangnam-gu</td>\n",
       "      <td>37.529200</td>\n",
       "      <td>127.032597</td>\n",
       "    </tr>\n",
       "    <tr>\n",
       "      <th>9</th>\n",
       "      <td>2000000001</td>\n",
       "      <td>3</td>\n",
       "      <td>2020-01-24</td>\n",
       "      <td>Gyeonggi-do</td>\n",
       "      <td>Goyang-si</td>\n",
       "      <td>37.674192</td>\n",
       "      <td>126.776955</td>\n",
       "    </tr>\n",
       "    <tr>\n",
       "      <th>10</th>\n",
       "      <td>2000000001</td>\n",
       "      <td>3</td>\n",
       "      <td>2020-01-24</td>\n",
       "      <td>Gyeonggi-do</td>\n",
       "      <td>Goyang-si</td>\n",
       "      <td>37.678158</td>\n",
       "      <td>126.812165</td>\n",
       "    </tr>\n",
       "    <tr>\n",
       "      <th>11</th>\n",
       "      <td>2000000001</td>\n",
       "      <td>3</td>\n",
       "      <td>2020-01-24</td>\n",
       "      <td>Gyeonggi-do</td>\n",
       "      <td>Goyang-si</td>\n",
       "      <td>37.682229</td>\n",
       "      <td>126.770046</td>\n",
       "    </tr>\n",
       "    <tr>\n",
       "      <th>12</th>\n",
       "      <td>2000000001</td>\n",
       "      <td>3</td>\n",
       "      <td>2020-01-25</td>\n",
       "      <td>Gyeonggi-do</td>\n",
       "      <td>Goyang-si</td>\n",
       "      <td>37.642457</td>\n",
       "      <td>126.831318</td>\n",
       "    </tr>\n",
       "    <tr>\n",
       "      <th>13</th>\n",
       "      <td>2000000002</td>\n",
       "      <td>4</td>\n",
       "      <td>2020-01-20</td>\n",
       "      <td>Incheon</td>\n",
       "      <td>Jung-gu</td>\n",
       "      <td>37.460459</td>\n",
       "      <td>126.440680</td>\n",
       "    </tr>\n",
       "    <tr>\n",
       "      <th>14</th>\n",
       "      <td>2000000002</td>\n",
       "      <td>4</td>\n",
       "      <td>2020-01-20</td>\n",
       "      <td>Gyeonggi-do</td>\n",
       "      <td>Pyeongtaek-si</td>\n",
       "      <td>37.079940</td>\n",
       "      <td>127.058282</td>\n",
       "    </tr>\n",
       "    <tr>\n",
       "      <th>15</th>\n",
       "      <td>2000000002</td>\n",
       "      <td>4</td>\n",
       "      <td>2020-01-21</td>\n",
       "      <td>Gyeonggi-do</td>\n",
       "      <td>Pyeongtaek-si</td>\n",
       "      <td>37.052277</td>\n",
       "      <td>127.057309</td>\n",
       "    </tr>\n",
       "    <tr>\n",
       "      <th>16</th>\n",
       "      <td>2000000002</td>\n",
       "      <td>4</td>\n",
       "      <td>2020-01-26</td>\n",
       "      <td>Gyeonggi-do</td>\n",
       "      <td>Seongnam-si</td>\n",
       "      <td>37.350625</td>\n",
       "      <td>127.124515</td>\n",
       "    </tr>\n",
       "    <tr>\n",
       "      <th>17</th>\n",
       "      <td>1000000002</td>\n",
       "      <td>5</td>\n",
       "      <td>2020-01-24</td>\n",
       "      <td>Incheon</td>\n",
       "      <td>Jung-gu</td>\n",
       "      <td>37.460459</td>\n",
       "      <td>126.440680</td>\n",
       "    </tr>\n",
       "    <tr>\n",
       "      <th>18</th>\n",
       "      <td>1000000002</td>\n",
       "      <td>5</td>\n",
       "      <td>2020-01-26</td>\n",
       "      <td>Seoul</td>\n",
       "      <td>Seongdong-gu</td>\n",
       "      <td>37.564119</td>\n",
       "      <td>127.029694</td>\n",
       "    </tr>\n",
       "    <tr>\n",
       "      <th>19</th>\n",
       "      <td>1000000002</td>\n",
       "      <td>5</td>\n",
       "      <td>2020-01-26</td>\n",
       "      <td>Seoul</td>\n",
       "      <td>Seongbuk-gu</td>\n",
       "      <td>37.592858</td>\n",
       "      <td>127.017016</td>\n",
       "    </tr>\n",
       "  </tbody>\n",
       "</table>\n",
       "</div>"
      ],
      "text/plain": [
       "    patient_id  global_num        date     province           city   latitude  \\\n",
       "0   1400000001           1  2020-01-19      Incheon        Jung-gu  37.460459   \n",
       "1   1400000001           1  2020-01-20      Incheon         Seo-gu  37.478832   \n",
       "2   1000000001           2  2020-01-22  Gyeonggi-do       Gimpo-si  37.562143   \n",
       "3   1000000001           2  2020-01-23        Seoul        Jung-gu  37.567454   \n",
       "4   2000000001           3  2020-01-20      Incheon        Jung-gu  37.460459   \n",
       "5   2000000001           3  2020-01-22        Seoul     Gangnam-gu  37.524978   \n",
       "6   2000000001           3  2020-01-22        Seoul     Gangnam-gu  37.503359   \n",
       "7   2000000001           3  2020-01-23        Seoul     Gangnam-gu  37.524669   \n",
       "8   2000000001           3  2020-01-23        Seoul     Gangnam-gu  37.529200   \n",
       "9   2000000001           3  2020-01-24  Gyeonggi-do      Goyang-si  37.674192   \n",
       "10  2000000001           3  2020-01-24  Gyeonggi-do      Goyang-si  37.678158   \n",
       "11  2000000001           3  2020-01-24  Gyeonggi-do      Goyang-si  37.682229   \n",
       "12  2000000001           3  2020-01-25  Gyeonggi-do      Goyang-si  37.642457   \n",
       "13  2000000002           4  2020-01-20      Incheon        Jung-gu  37.460459   \n",
       "14  2000000002           4  2020-01-20  Gyeonggi-do  Pyeongtaek-si  37.079940   \n",
       "15  2000000002           4  2020-01-21  Gyeonggi-do  Pyeongtaek-si  37.052277   \n",
       "16  2000000002           4  2020-01-26  Gyeonggi-do    Seongnam-si  37.350625   \n",
       "17  1000000002           5  2020-01-24      Incheon        Jung-gu  37.460459   \n",
       "18  1000000002           5  2020-01-26        Seoul   Seongdong-gu  37.564119   \n",
       "19  1000000002           5  2020-01-26        Seoul    Seongbuk-gu  37.592858   \n",
       "\n",
       "     longitude  \n",
       "0   126.440680  \n",
       "1   126.668558  \n",
       "2   126.801884  \n",
       "3   127.005627  \n",
       "4   126.440680  \n",
       "5   127.027718  \n",
       "6   127.049177  \n",
       "7   127.015911  \n",
       "8   127.032597  \n",
       "9   126.776955  \n",
       "10  126.812165  \n",
       "11  126.770046  \n",
       "12  126.831318  \n",
       "13  126.440680  \n",
       "14  127.058282  \n",
       "15  127.057309  \n",
       "16  127.124515  \n",
       "17  126.440680  \n",
       "18  127.029694  \n",
       "19  127.017016  "
      ]
     },
     "execution_count": 7,
     "metadata": {},
     "output_type": "execute_result"
    }
   ],
   "source": [
    "folderpath = 'C:/Users/lyubo/Documents/DATA_networks/covid19/SouthKoreacoronavirusdataset/'\n",
    "\n",
    "patient = pd.read_csv(folderpath+\"PatientInfo.csv\")\n",
    "route = pd.read_csv(folderpath+\"PatientRoute.csv\")\n",
    "time = pd.read_csv(folderpath+\"Time.csv\")\n",
    "\n",
    "route.head(20)"
   ]
  },
  {
   "cell_type": "code",
   "execution_count": 8,
   "metadata": {},
   "outputs": [
    {
     "data": {
      "text/plain": [
       "'time'"
      ]
     },
     "execution_count": 8,
     "metadata": {},
     "output_type": "execute_result"
    }
   ],
   "source": [
    "#working with dataframe \"time\"\n",
    "\n",
    "def get_df_name(df):\n",
    "    name =[x for x in globals() if globals()[x] is df][0]\n",
    "    return name\n",
    "\n",
    "get_df_name(time)\n",
    "\n"
   ]
  },
  {
   "cell_type": "code",
   "execution_count": 9,
   "metadata": {
    "scrolled": true
   },
   "outputs": [
    {
     "name": "stdout",
     "output_type": "stream",
     "text": [
      "The dataset patient has 2243 observations and 18 columns\n",
      "The dataset route has 175 observations and 7 columns\n",
      "The dataset time has 62 observations and 7 columns\n"
     ]
    }
   ],
   "source": [
    "for data in [patient, route, time]:\n",
    "    print(\"The dataset {} has {} observations and {} columns\".format(get_df_name(data), \n",
    "                                                                     data.shape[0], data.shape[1]))\n"
   ]
  },
  {
   "cell_type": "markdown",
   "metadata": {},
   "source": [
    "\n",
    "# Data for each patient \n",
    "\n",
    "Let's find out how many individual patients are considered."
   ]
  },
  {
   "cell_type": "code",
   "execution_count": 12,
   "metadata": {},
   "outputs": [
    {
     "name": "stdout",
     "output_type": "stream",
     "text": [
      "unique patients [1000000001 1000000002 1000000003 1000000004 1000000005 1000000006\n",
      " 1000000007 1000000008 1000000009 1000000010 1000000011 1000000012\n",
      " 1000000013 1000000014 1200000031 1300000001 1300000002 1400000001\n",
      " 2000000001 2000000002 2000000003 2000000004 2000000005 2000000006\n",
      " 2000000007 2000000008 2000000009 2000000010 2000000011 5000000001\n",
      " 5100000001]\n",
      "unique patients number 31\n"
     ]
    }
   ],
   "source": [
    "print('unique patients', np.unique(route.patient_id.values))\n",
    "print('unique patients number', len(np.unique(route.patient_id.values)))"
   ]
  },
  {
   "cell_type": "code",
   "execution_count": 13,
   "metadata": {
    "scrolled": false
   },
   "outputs": [
    {
     "name": "stdout",
     "output_type": "stream",
     "text": [
      "unique patients [1000000001 1000000002 1000000003 ... 7000000002 7000000003 7000000004]\n",
      "unique patients number 2243\n"
     ]
    },
    {
     "data": {
      "text/html": [
       "<div>\n",
       "<style scoped>\n",
       "    .dataframe tbody tr th:only-of-type {\n",
       "        vertical-align: middle;\n",
       "    }\n",
       "\n",
       "    .dataframe tbody tr th {\n",
       "        vertical-align: top;\n",
       "    }\n",
       "\n",
       "    .dataframe thead th {\n",
       "        text-align: right;\n",
       "    }\n",
       "</style>\n",
       "<table border=\"1\" class=\"dataframe\">\n",
       "  <thead>\n",
       "    <tr style=\"text-align: right;\">\n",
       "      <th></th>\n",
       "      <th>patient_id</th>\n",
       "      <th>global_num</th>\n",
       "      <th>sex</th>\n",
       "      <th>birth_year</th>\n",
       "      <th>age</th>\n",
       "      <th>country</th>\n",
       "      <th>province</th>\n",
       "      <th>city</th>\n",
       "      <th>disease</th>\n",
       "      <th>infection_case</th>\n",
       "      <th>infection_order</th>\n",
       "      <th>infected_by</th>\n",
       "      <th>contact_number</th>\n",
       "      <th>symptom_onset_date</th>\n",
       "      <th>confirmed_date</th>\n",
       "      <th>released_date</th>\n",
       "      <th>deceased_date</th>\n",
       "      <th>state</th>\n",
       "    </tr>\n",
       "  </thead>\n",
       "  <tbody>\n",
       "    <tr>\n",
       "      <th>0</th>\n",
       "      <td>1000000001</td>\n",
       "      <td>2.0</td>\n",
       "      <td>male</td>\n",
       "      <td>1964.0</td>\n",
       "      <td>50s</td>\n",
       "      <td>Korea</td>\n",
       "      <td>Seoul</td>\n",
       "      <td>Gangseo-gu</td>\n",
       "      <td>NaN</td>\n",
       "      <td>overseas inflow</td>\n",
       "      <td>1.0</td>\n",
       "      <td>NaN</td>\n",
       "      <td>75.0</td>\n",
       "      <td>2020-01-22</td>\n",
       "      <td>2020-01-23</td>\n",
       "      <td>2020-02-05</td>\n",
       "      <td>NaN</td>\n",
       "      <td>released</td>\n",
       "    </tr>\n",
       "    <tr>\n",
       "      <th>1</th>\n",
       "      <td>1000000002</td>\n",
       "      <td>5.0</td>\n",
       "      <td>male</td>\n",
       "      <td>1987.0</td>\n",
       "      <td>30s</td>\n",
       "      <td>Korea</td>\n",
       "      <td>Seoul</td>\n",
       "      <td>Jungnang-gu</td>\n",
       "      <td>NaN</td>\n",
       "      <td>overseas inflow</td>\n",
       "      <td>1.0</td>\n",
       "      <td>NaN</td>\n",
       "      <td>31.0</td>\n",
       "      <td>NaN</td>\n",
       "      <td>2020-01-30</td>\n",
       "      <td>2020-03-02</td>\n",
       "      <td>NaN</td>\n",
       "      <td>released</td>\n",
       "    </tr>\n",
       "    <tr>\n",
       "      <th>2</th>\n",
       "      <td>1000000003</td>\n",
       "      <td>6.0</td>\n",
       "      <td>male</td>\n",
       "      <td>1964.0</td>\n",
       "      <td>50s</td>\n",
       "      <td>Korea</td>\n",
       "      <td>Seoul</td>\n",
       "      <td>Jongno-gu</td>\n",
       "      <td>NaN</td>\n",
       "      <td>contact with patient</td>\n",
       "      <td>2.0</td>\n",
       "      <td>2.002000e+09</td>\n",
       "      <td>17.0</td>\n",
       "      <td>NaN</td>\n",
       "      <td>2020-01-30</td>\n",
       "      <td>2020-02-19</td>\n",
       "      <td>NaN</td>\n",
       "      <td>released</td>\n",
       "    </tr>\n",
       "    <tr>\n",
       "      <th>3</th>\n",
       "      <td>1000000004</td>\n",
       "      <td>7.0</td>\n",
       "      <td>male</td>\n",
       "      <td>1991.0</td>\n",
       "      <td>20s</td>\n",
       "      <td>Korea</td>\n",
       "      <td>Seoul</td>\n",
       "      <td>Mapo-gu</td>\n",
       "      <td>NaN</td>\n",
       "      <td>overseas inflow</td>\n",
       "      <td>1.0</td>\n",
       "      <td>NaN</td>\n",
       "      <td>9.0</td>\n",
       "      <td>2020-01-26</td>\n",
       "      <td>2020-01-30</td>\n",
       "      <td>2020-02-15</td>\n",
       "      <td>NaN</td>\n",
       "      <td>released</td>\n",
       "    </tr>\n",
       "    <tr>\n",
       "      <th>4</th>\n",
       "      <td>1000000005</td>\n",
       "      <td>9.0</td>\n",
       "      <td>female</td>\n",
       "      <td>1992.0</td>\n",
       "      <td>20s</td>\n",
       "      <td>Korea</td>\n",
       "      <td>Seoul</td>\n",
       "      <td>Seongbuk-gu</td>\n",
       "      <td>NaN</td>\n",
       "      <td>contact with patient</td>\n",
       "      <td>2.0</td>\n",
       "      <td>1.000000e+09</td>\n",
       "      <td>2.0</td>\n",
       "      <td>NaN</td>\n",
       "      <td>2020-01-31</td>\n",
       "      <td>2020-02-24</td>\n",
       "      <td>NaN</td>\n",
       "      <td>released</td>\n",
       "    </tr>\n",
       "  </tbody>\n",
       "</table>\n",
       "</div>"
      ],
      "text/plain": [
       "   patient_id  global_num     sex  birth_year  age country province  \\\n",
       "0  1000000001         2.0    male      1964.0  50s   Korea    Seoul   \n",
       "1  1000000002         5.0    male      1987.0  30s   Korea    Seoul   \n",
       "2  1000000003         6.0    male      1964.0  50s   Korea    Seoul   \n",
       "3  1000000004         7.0    male      1991.0  20s   Korea    Seoul   \n",
       "4  1000000005         9.0  female      1992.0  20s   Korea    Seoul   \n",
       "\n",
       "          city disease        infection_case  infection_order   infected_by  \\\n",
       "0   Gangseo-gu     NaN       overseas inflow              1.0           NaN   \n",
       "1  Jungnang-gu     NaN       overseas inflow              1.0           NaN   \n",
       "2    Jongno-gu     NaN  contact with patient              2.0  2.002000e+09   \n",
       "3      Mapo-gu     NaN       overseas inflow              1.0           NaN   \n",
       "4  Seongbuk-gu     NaN  contact with patient              2.0  1.000000e+09   \n",
       "\n",
       "   contact_number symptom_onset_date confirmed_date released_date  \\\n",
       "0            75.0         2020-01-22     2020-01-23    2020-02-05   \n",
       "1            31.0                NaN     2020-01-30    2020-03-02   \n",
       "2            17.0                NaN     2020-01-30    2020-02-19   \n",
       "3             9.0         2020-01-26     2020-01-30    2020-02-15   \n",
       "4             2.0                NaN     2020-01-31    2020-02-24   \n",
       "\n",
       "  deceased_date     state  \n",
       "0           NaN  released  \n",
       "1           NaN  released  \n",
       "2           NaN  released  \n",
       "3           NaN  released  \n",
       "4           NaN  released  "
      ]
     },
     "execution_count": 13,
     "metadata": {},
     "output_type": "execute_result"
    }
   ],
   "source": [
    "print('unique patients', np.unique(patient.patient_id.values))\n",
    "print('unique patients number', len(np.unique(patient.patient_id.values)))\n",
    "\n",
    "patient.head()"
   ]
  },
  {
   "cell_type": "code",
   "execution_count": null,
   "metadata": {},
   "outputs": [],
   "source": [
    "\n",
    "import plotly.express as px\n",
    "\n",
    "uniq_patients = np.unique(route.patient_id.values)\n",
    "\n",
    "\n",
    "\n",
    "def plot_route(pat_id,route):\n",
    "    route_id = route[route.patient_id == pat_id] #dataframe for patient with id\n",
    "    \n",
    "    # loop through route_id - dataframe for each patient \n",
    "    \n",
    "    #x = route_id.latitude\n",
    "    #y = route_id.longitude\n",
    "    \n",
    "    fig = px.line_mapbox(route, lat=\"latitude\", lon=\"longitude\", color=\"global_num\", zoom=3, height=300)\n",
    "\n",
    "    fig.update_layout(mapbox_style=\"stamen-terrain\", mapbox_zoom=4, mapbox_center_lat = 41,\n",
    "    margin={\"r\":0,\"t\":0,\"l\":0,\"b\":0})\n",
    "    \n",
    "    #fig.show()\n"
   ]
  },
  {
   "cell_type": "markdown",
   "metadata": {},
   "source": [
    "# Patients routes \n",
    "\n",
    "Let us plot unique routes on a map."
   ]
  },
  {
   "cell_type": "code",
   "execution_count": null,
   "metadata": {},
   "outputs": [],
   "source": [
    "# loop through all unique patients \n",
    "for ind in range(0, len(uniq_patients)):\n",
    "    plot_route(uniq_patients[ind], route)\n",
    "    fig.show()\n"
   ]
  },
  {
   "cell_type": "code",
   "execution_count": null,
   "metadata": {},
   "outputs": [],
   "source": []
  },
  {
   "cell_type": "markdown",
   "metadata": {},
   "source": [
    "# Analysis of patients metadata"
   ]
  },
  {
   "cell_type": "code",
   "execution_count": 7,
   "metadata": {
    "scrolled": false
   },
   "outputs": [
    {
     "data": {
      "text/html": [
       "<div>\n",
       "<style scoped>\n",
       "    .dataframe tbody tr th:only-of-type {\n",
       "        vertical-align: middle;\n",
       "    }\n",
       "\n",
       "    .dataframe tbody tr th {\n",
       "        vertical-align: top;\n",
       "    }\n",
       "\n",
       "    .dataframe thead th {\n",
       "        text-align: right;\n",
       "    }\n",
       "</style>\n",
       "<table border=\"1\" class=\"dataframe\">\n",
       "  <thead>\n",
       "    <tr style=\"text-align: right;\">\n",
       "      <th></th>\n",
       "      <th>date</th>\n",
       "      <th>acc_test</th>\n",
       "      <th>acc_negative</th>\n",
       "      <th>acc_confirmed</th>\n",
       "      <th>acc_released</th>\n",
       "      <th>acc_deceased</th>\n",
       "      <th>new_test</th>\n",
       "      <th>new_negative</th>\n",
       "      <th>new_confirmed</th>\n",
       "      <th>new_released</th>\n",
       "      <th>new_deceased</th>\n",
       "    </tr>\n",
       "  </thead>\n",
       "  <tbody>\n",
       "    <tr>\n",
       "      <td>0</td>\n",
       "      <td>2020-01-20</td>\n",
       "      <td>1</td>\n",
       "      <td>0</td>\n",
       "      <td>1</td>\n",
       "      <td>0</td>\n",
       "      <td>0</td>\n",
       "      <td>1</td>\n",
       "      <td>0</td>\n",
       "      <td>1</td>\n",
       "      <td>0</td>\n",
       "      <td>0</td>\n",
       "    </tr>\n",
       "    <tr>\n",
       "      <td>1</td>\n",
       "      <td>2020-01-21</td>\n",
       "      <td>1</td>\n",
       "      <td>0</td>\n",
       "      <td>1</td>\n",
       "      <td>0</td>\n",
       "      <td>0</td>\n",
       "      <td>0</td>\n",
       "      <td>0</td>\n",
       "      <td>0</td>\n",
       "      <td>0</td>\n",
       "      <td>0</td>\n",
       "    </tr>\n",
       "    <tr>\n",
       "      <td>2</td>\n",
       "      <td>2020-01-22</td>\n",
       "      <td>4</td>\n",
       "      <td>3</td>\n",
       "      <td>1</td>\n",
       "      <td>0</td>\n",
       "      <td>0</td>\n",
       "      <td>3</td>\n",
       "      <td>3</td>\n",
       "      <td>0</td>\n",
       "      <td>0</td>\n",
       "      <td>0</td>\n",
       "    </tr>\n",
       "    <tr>\n",
       "      <td>3</td>\n",
       "      <td>2020-01-23</td>\n",
       "      <td>22</td>\n",
       "      <td>21</td>\n",
       "      <td>1</td>\n",
       "      <td>0</td>\n",
       "      <td>0</td>\n",
       "      <td>18</td>\n",
       "      <td>18</td>\n",
       "      <td>0</td>\n",
       "      <td>0</td>\n",
       "      <td>0</td>\n",
       "    </tr>\n",
       "    <tr>\n",
       "      <td>4</td>\n",
       "      <td>2020-01-24</td>\n",
       "      <td>27</td>\n",
       "      <td>25</td>\n",
       "      <td>2</td>\n",
       "      <td>0</td>\n",
       "      <td>0</td>\n",
       "      <td>5</td>\n",
       "      <td>4</td>\n",
       "      <td>1</td>\n",
       "      <td>0</td>\n",
       "      <td>0</td>\n",
       "    </tr>\n",
       "  </tbody>\n",
       "</table>\n",
       "</div>"
      ],
      "text/plain": [
       "         date  acc_test  acc_negative  acc_confirmed  acc_released  \\\n",
       "0  2020-01-20         1             0              1             0   \n",
       "1  2020-01-21         1             0              1             0   \n",
       "2  2020-01-22         4             3              1             0   \n",
       "3  2020-01-23        22            21              1             0   \n",
       "4  2020-01-24        27            25              2             0   \n",
       "\n",
       "   acc_deceased  new_test  new_negative  new_confirmed  new_released  \\\n",
       "0             0         1             0              1             0   \n",
       "1             0         0             0              0             0   \n",
       "2             0         3             3              0             0   \n",
       "3             0        18            18              0             0   \n",
       "4             0         5             4              1             0   \n",
       "\n",
       "   new_deceased  \n",
       "0             0  \n",
       "1             0  \n",
       "2             0  \n",
       "3             0  \n",
       "4             0  "
      ]
     },
     "execution_count": 7,
     "metadata": {},
     "output_type": "execute_result"
    }
   ],
   "source": [
    "time.head()"
   ]
  },
  {
   "cell_type": "markdown",
   "metadata": {},
   "source": [
    "This dataset consists of time series and integer values\n",
    "\n",
    "For our purposes, we will look at the age of each patient and assume their birthday has already occured."
   ]
  },
  {
   "cell_type": "code",
   "execution_count": 8,
   "metadata": {},
   "outputs": [],
   "source": [
    "# knowing the age of the patients is more readable than knowing \n",
    "#  their birth year\n",
    "patient = patient.rename(columns = {\"birth_year\":\"age\"})\n",
    "patient['age'] = 2020 - patient['age']"
   ]
  },
  {
   "cell_type": "code",
   "execution_count": 9,
   "metadata": {
    "scrolled": true
   },
   "outputs": [
    {
     "data": {
      "text/html": [
       "<div>\n",
       "<style scoped>\n",
       "    .dataframe tbody tr th:only-of-type {\n",
       "        vertical-align: middle;\n",
       "    }\n",
       "\n",
       "    .dataframe tbody tr th {\n",
       "        vertical-align: top;\n",
       "    }\n",
       "\n",
       "    .dataframe thead th {\n",
       "        text-align: right;\n",
       "    }\n",
       "</style>\n",
       "<table border=\"1\" class=\"dataframe\">\n",
       "  <thead>\n",
       "    <tr style=\"text-align: right;\">\n",
       "      <th></th>\n",
       "      <th>id</th>\n",
       "      <th>sex</th>\n",
       "      <th>age</th>\n",
       "      <th>country</th>\n",
       "      <th>region</th>\n",
       "      <th>group</th>\n",
       "      <th>infection_reason</th>\n",
       "      <th>infection_order</th>\n",
       "      <th>infected_by</th>\n",
       "      <th>contact_number</th>\n",
       "      <th>confirmed_date</th>\n",
       "      <th>released_date</th>\n",
       "      <th>deceased_date</th>\n",
       "      <th>state</th>\n",
       "    </tr>\n",
       "  </thead>\n",
       "  <tbody>\n",
       "    <tr>\n",
       "      <td>0</td>\n",
       "      <td>1</td>\n",
       "      <td>female</td>\n",
       "      <td>36.0</td>\n",
       "      <td>China</td>\n",
       "      <td>filtered at airport</td>\n",
       "      <td>NaN</td>\n",
       "      <td>visit to Wuhan</td>\n",
       "      <td>1.0</td>\n",
       "      <td>NaN</td>\n",
       "      <td>45.0</td>\n",
       "      <td>2020-01-20</td>\n",
       "      <td>2020-02-06</td>\n",
       "      <td>NaN</td>\n",
       "      <td>released</td>\n",
       "    </tr>\n",
       "    <tr>\n",
       "      <td>1</td>\n",
       "      <td>2</td>\n",
       "      <td>male</td>\n",
       "      <td>56.0</td>\n",
       "      <td>Korea</td>\n",
       "      <td>filtered at airport</td>\n",
       "      <td>NaN</td>\n",
       "      <td>visit to Wuhan</td>\n",
       "      <td>1.0</td>\n",
       "      <td>NaN</td>\n",
       "      <td>75.0</td>\n",
       "      <td>2020-01-24</td>\n",
       "      <td>2020-02-05</td>\n",
       "      <td>NaN</td>\n",
       "      <td>released</td>\n",
       "    </tr>\n",
       "    <tr>\n",
       "      <td>2</td>\n",
       "      <td>3</td>\n",
       "      <td>male</td>\n",
       "      <td>54.0</td>\n",
       "      <td>Korea</td>\n",
       "      <td>capital area</td>\n",
       "      <td>NaN</td>\n",
       "      <td>visit to Wuhan</td>\n",
       "      <td>1.0</td>\n",
       "      <td>NaN</td>\n",
       "      <td>16.0</td>\n",
       "      <td>2020-01-26</td>\n",
       "      <td>2020-02-12</td>\n",
       "      <td>NaN</td>\n",
       "      <td>released</td>\n",
       "    </tr>\n",
       "    <tr>\n",
       "      <td>3</td>\n",
       "      <td>4</td>\n",
       "      <td>male</td>\n",
       "      <td>56.0</td>\n",
       "      <td>Korea</td>\n",
       "      <td>capital area</td>\n",
       "      <td>NaN</td>\n",
       "      <td>visit to Wuhan</td>\n",
       "      <td>1.0</td>\n",
       "      <td>NaN</td>\n",
       "      <td>95.0</td>\n",
       "      <td>2020-01-27</td>\n",
       "      <td>2020-02-09</td>\n",
       "      <td>NaN</td>\n",
       "      <td>released</td>\n",
       "    </tr>\n",
       "    <tr>\n",
       "      <td>4</td>\n",
       "      <td>5</td>\n",
       "      <td>male</td>\n",
       "      <td>33.0</td>\n",
       "      <td>Korea</td>\n",
       "      <td>capital area</td>\n",
       "      <td>NaN</td>\n",
       "      <td>visit to Wuhan</td>\n",
       "      <td>1.0</td>\n",
       "      <td>NaN</td>\n",
       "      <td>31.0</td>\n",
       "      <td>2020-01-30</td>\n",
       "      <td>2020-03-02</td>\n",
       "      <td>NaN</td>\n",
       "      <td>released</td>\n",
       "    </tr>\n",
       "    <tr>\n",
       "      <td>...</td>\n",
       "      <td>...</td>\n",
       "      <td>...</td>\n",
       "      <td>...</td>\n",
       "      <td>...</td>\n",
       "      <td>...</td>\n",
       "      <td>...</td>\n",
       "      <td>...</td>\n",
       "      <td>...</td>\n",
       "      <td>...</td>\n",
       "      <td>...</td>\n",
       "      <td>...</td>\n",
       "      <td>...</td>\n",
       "      <td>...</td>\n",
       "      <td>...</td>\n",
       "    </tr>\n",
       "    <tr>\n",
       "      <td>5761</td>\n",
       "      <td>5762</td>\n",
       "      <td>NaN</td>\n",
       "      <td>NaN</td>\n",
       "      <td>Korea</td>\n",
       "      <td>NaN</td>\n",
       "      <td>NaN</td>\n",
       "      <td>NaN</td>\n",
       "      <td>NaN</td>\n",
       "      <td>NaN</td>\n",
       "      <td>NaN</td>\n",
       "      <td>2020-03-04</td>\n",
       "      <td>NaN</td>\n",
       "      <td>NaN</td>\n",
       "      <td>isolated</td>\n",
       "    </tr>\n",
       "    <tr>\n",
       "      <td>5762</td>\n",
       "      <td>5763</td>\n",
       "      <td>NaN</td>\n",
       "      <td>NaN</td>\n",
       "      <td>Korea</td>\n",
       "      <td>NaN</td>\n",
       "      <td>NaN</td>\n",
       "      <td>NaN</td>\n",
       "      <td>NaN</td>\n",
       "      <td>NaN</td>\n",
       "      <td>NaN</td>\n",
       "      <td>2020-03-04</td>\n",
       "      <td>NaN</td>\n",
       "      <td>NaN</td>\n",
       "      <td>isolated</td>\n",
       "    </tr>\n",
       "    <tr>\n",
       "      <td>5763</td>\n",
       "      <td>5764</td>\n",
       "      <td>NaN</td>\n",
       "      <td>NaN</td>\n",
       "      <td>Korea</td>\n",
       "      <td>NaN</td>\n",
       "      <td>NaN</td>\n",
       "      <td>NaN</td>\n",
       "      <td>NaN</td>\n",
       "      <td>NaN</td>\n",
       "      <td>NaN</td>\n",
       "      <td>2020-03-04</td>\n",
       "      <td>NaN</td>\n",
       "      <td>NaN</td>\n",
       "      <td>isolated</td>\n",
       "    </tr>\n",
       "    <tr>\n",
       "      <td>5764</td>\n",
       "      <td>5765</td>\n",
       "      <td>NaN</td>\n",
       "      <td>NaN</td>\n",
       "      <td>Korea</td>\n",
       "      <td>NaN</td>\n",
       "      <td>NaN</td>\n",
       "      <td>NaN</td>\n",
       "      <td>NaN</td>\n",
       "      <td>NaN</td>\n",
       "      <td>NaN</td>\n",
       "      <td>2020-03-04</td>\n",
       "      <td>NaN</td>\n",
       "      <td>NaN</td>\n",
       "      <td>isolated</td>\n",
       "    </tr>\n",
       "    <tr>\n",
       "      <td>5765</td>\n",
       "      <td>5766</td>\n",
       "      <td>NaN</td>\n",
       "      <td>NaN</td>\n",
       "      <td>Korea</td>\n",
       "      <td>NaN</td>\n",
       "      <td>NaN</td>\n",
       "      <td>NaN</td>\n",
       "      <td>NaN</td>\n",
       "      <td>NaN</td>\n",
       "      <td>NaN</td>\n",
       "      <td>2020-03-04</td>\n",
       "      <td>NaN</td>\n",
       "      <td>NaN</td>\n",
       "      <td>isolated</td>\n",
       "    </tr>\n",
       "  </tbody>\n",
       "</table>\n",
       "<p>5766 rows × 14 columns</p>\n",
       "</div>"
      ],
      "text/plain": [
       "        id     sex   age country               region group infection_reason  \\\n",
       "0        1  female  36.0   China  filtered at airport   NaN   visit to Wuhan   \n",
       "1        2    male  56.0   Korea  filtered at airport   NaN   visit to Wuhan   \n",
       "2        3    male  54.0   Korea         capital area   NaN   visit to Wuhan   \n",
       "3        4    male  56.0   Korea         capital area   NaN   visit to Wuhan   \n",
       "4        5    male  33.0   Korea         capital area   NaN   visit to Wuhan   \n",
       "...    ...     ...   ...     ...                  ...   ...              ...   \n",
       "5761  5762     NaN   NaN   Korea                  NaN   NaN              NaN   \n",
       "5762  5763     NaN   NaN   Korea                  NaN   NaN              NaN   \n",
       "5763  5764     NaN   NaN   Korea                  NaN   NaN              NaN   \n",
       "5764  5765     NaN   NaN   Korea                  NaN   NaN              NaN   \n",
       "5765  5766     NaN   NaN   Korea                  NaN   NaN              NaN   \n",
       "\n",
       "      infection_order  infected_by  contact_number confirmed_date  \\\n",
       "0                 1.0          NaN            45.0     2020-01-20   \n",
       "1                 1.0          NaN            75.0     2020-01-24   \n",
       "2                 1.0          NaN            16.0     2020-01-26   \n",
       "3                 1.0          NaN            95.0     2020-01-27   \n",
       "4                 1.0          NaN            31.0     2020-01-30   \n",
       "...               ...          ...             ...            ...   \n",
       "5761              NaN          NaN             NaN     2020-03-04   \n",
       "5762              NaN          NaN             NaN     2020-03-04   \n",
       "5763              NaN          NaN             NaN     2020-03-04   \n",
       "5764              NaN          NaN             NaN     2020-03-04   \n",
       "5765              NaN          NaN             NaN     2020-03-04   \n",
       "\n",
       "     released_date deceased_date     state  \n",
       "0       2020-02-06           NaN  released  \n",
       "1       2020-02-05           NaN  released  \n",
       "2       2020-02-12           NaN  released  \n",
       "3       2020-02-09           NaN  released  \n",
       "4       2020-03-02           NaN  released  \n",
       "...            ...           ...       ...  \n",
       "5761           NaN           NaN  isolated  \n",
       "5762           NaN           NaN  isolated  \n",
       "5763           NaN           NaN  isolated  \n",
       "5764           NaN           NaN  isolated  \n",
       "5765           NaN           NaN  isolated  \n",
       "\n",
       "[5766 rows x 14 columns]"
      ]
     },
     "execution_count": 9,
     "metadata": {},
     "output_type": "execute_result"
    }
   ],
   "source": [
    "patient"
   ]
  },
  {
   "cell_type": "code",
   "execution_count": 10,
   "metadata": {},
   "outputs": [],
   "source": [
    "def bar_plot(data, feat_indicator):\n",
    "    \n",
    "    # created if statements so that feat_indicator can take on the column position as an int or\n",
    "    #    or take on the column name as a str\n",
    "    if type(feat_indicator) != str:\n",
    "        feature = data.columns[feat_indicator]\n",
    "        \n",
    "    else: \n",
    "        if feat_indicator in data.columns:\n",
    "            feature = feat_indicator\n",
    "        else:\n",
    "            return(\"Feature name not in the dataset.\")\n",
    "        \n",
    "    \n",
    "    grouped_data = data.groupby(\"{}\".format(feature)).size()\n",
    "    \n",
    "    fig = plt.figure()\n",
    "    groups = grouped_data.keys()\n",
    "    num_people = grouped_data\n",
    "    ax = fig.add_axes([0,0,1,1]) # [left, bottom, width, height] \n",
    "    ax.bar(groups,num_people)\n",
    "    plt.xlabel(\"{}\".format(feature), fontsize = 15)\n",
    "    plt.xticks(rotation = 90)\n",
    "    plt.ylabel(\"Number of People\", fontsize = 15)\n",
    "    plt.title(\"Numer of People by {}\".format(feature), fontsize = 20)\n",
    "\n",
    "    plt.show()\n",
    "\n",
    "    "
   ]
  },
  {
   "cell_type": "markdown",
   "metadata": {},
   "source": [
    "We'll investigate each column in `patient`"
   ]
  },
  {
   "cell_type": "code",
   "execution_count": 11,
   "metadata": {
    "scrolled": true
   },
   "outputs": [
    {
     "data": {
      "text/plain": [
       "['id',\n",
       " 'sex',\n",
       " 'age',\n",
       " 'country',\n",
       " 'region',\n",
       " 'group',\n",
       " 'infection_reason',\n",
       " 'infection_order',\n",
       " 'infected_by',\n",
       " 'contact_number',\n",
       " 'confirmed_date',\n",
       " 'released_date',\n",
       " 'deceased_date',\n",
       " 'state']"
      ]
     },
     "execution_count": 11,
     "metadata": {},
     "output_type": "execute_result"
    }
   ],
   "source": [
    "list(patient.columns)"
   ]
  },
  {
   "cell_type": "markdown",
   "metadata": {},
   "source": [
    "## ID"
   ]
  },
  {
   "cell_type": "code",
   "execution_count": 12,
   "metadata": {
    "scrolled": false
   },
   "outputs": [
    {
     "data": {
      "text/plain": [
       "id                     0\n",
       "sex                 5363\n",
       "age                 5376\n",
       "country                1\n",
       "region              5374\n",
       "group               5684\n",
       "infection_reason    5626\n",
       "infection_order     5731\n",
       "infected_by         5696\n",
       "contact_number      5719\n",
       "confirmed_date         1\n",
       "released_date       5734\n",
       "deceased_date       5746\n",
       "state                  1\n",
       "dtype: int64"
      ]
     },
     "execution_count": 12,
     "metadata": {},
     "output_type": "execute_result"
    }
   ],
   "source": [
    "patient.apply(lambda x: x.isna().sum(), axis = 0)\n",
    "# for df patient look at every column (axis = 0) and count the number of observations that are na"
   ]
  },
  {
   "cell_type": "code",
   "execution_count": 13,
   "metadata": {
    "scrolled": true
   },
   "outputs": [
    {
     "data": {
      "text/plain": [
       "[102]"
      ]
     },
     "execution_count": 13,
     "metadata": {},
     "output_type": "execute_result"
    }
   ],
   "source": [
    "my_list = []\n",
    "counter = 0 \n",
    "for row in patient['country'].isnull():\n",
    "    if row == True:\n",
    "        my_list.append(counter)\n",
    "    counter += 1\n",
    "my_list"
   ]
  },
  {
   "cell_type": "code",
   "execution_count": 14,
   "metadata": {},
   "outputs": [
    {
     "data": {
      "text/plain": [
       "id                  103\n",
       "sex                 NaN\n",
       "age                 NaN\n",
       "country             NaN\n",
       "region              NaN\n",
       "group               NaN\n",
       "infection_reason    NaN\n",
       "infection_order     NaN\n",
       "infected_by         NaN\n",
       "contact_number      NaN\n",
       "confirmed_date      NaN\n",
       "released_date       NaN\n",
       "deceased_date       NaN\n",
       "state               NaN\n",
       "Name: 102, dtype: object"
      ]
     },
     "execution_count": 14,
     "metadata": {},
     "output_type": "execute_result"
    }
   ],
   "source": [
    "patient.iloc[102]"
   ]
  },
  {
   "cell_type": "markdown",
   "metadata": {},
   "source": [
    "Therefore we do not know any information about patient 103."
   ]
  },
  {
   "cell_type": "code",
   "execution_count": 15,
   "metadata": {},
   "outputs": [
    {
     "data": {
      "text/plain": [
       "5766"
      ]
     },
     "execution_count": 15,
     "metadata": {},
     "output_type": "execute_result"
    }
   ],
   "source": [
    "patient['id'].unique().size"
   ]
  },
  {
   "cell_type": "markdown",
   "metadata": {},
   "source": [
    "There are 5766 unique id values. Since we have 5766 observations, therefore we have a unique identifier for every patient."
   ]
  },
  {
   "cell_type": "markdown",
   "metadata": {},
   "source": [
    "## Sex"
   ]
  },
  {
   "cell_type": "code",
   "execution_count": 16,
   "metadata": {},
   "outputs": [
    {
     "data": {
      "text/plain": [
       "array(['female', 'male', nan], dtype=object)"
      ]
     },
     "execution_count": 16,
     "metadata": {},
     "output_type": "execute_result"
    }
   ],
   "source": [
    "patient['sex'].unique()"
   ]
  },
  {
   "cell_type": "markdown",
   "metadata": {},
   "source": [
    "We have 3 values for sex. Patients are either female, male, or we do not know the patient's sex."
   ]
  },
  {
   "cell_type": "code",
   "execution_count": 17,
   "metadata": {},
   "outputs": [
    {
     "data": {
      "image/png": "[encoded data removed]",
      "text/plain": [
       "<Figure size 432x288 with 1 Axes>"
      ]
     },
     "metadata": {
      "needs_background": "light"
     },
     "output_type": "display_data"
    }
   ],
   "source": [
    "bar_plot(patient,'sex')\n"
   ]
  },
  {
   "cell_type": "code",
   "execution_count": 18,
   "metadata": {},
   "outputs": [
    {
     "data": {
      "text/plain": [
       "sex\n",
       "female    204\n",
       "male      199\n",
       "dtype: int64"
      ]
     },
     "execution_count": 18,
     "metadata": {},
     "output_type": "execute_result"
    }
   ],
   "source": [
    "patient.groupby('sex').size()"
   ]
  },
  {
   "cell_type": "markdown",
   "metadata": {},
   "source": [
    "Of the patients with known sex, there is approximately the same number of infected males and females. Therefore there is no bias for which sex is more likely to contract the coronavirus."
   ]
  },
  {
   "cell_type": "markdown",
   "metadata": {},
   "source": [
    "## Age"
   ]
  },
  {
   "cell_type": "code",
   "execution_count": 19,
   "metadata": {
    "scrolled": true
   },
   "outputs": [
    {
     "name": "stdout",
     "output_type": "stream",
     "text": [
      "The youngest patient is 2.0 years old and the oldest patient is 88.0 years old\n"
     ]
    }
   ],
   "source": [
    "print('The youngest patient is {} years old and the oldest patient is {} years old'\n",
    "      .format(patient['age'].min(), patient['age'].max()))\n"
   ]
  },
  {
   "cell_type": "code",
   "execution_count": 20,
   "metadata": {},
   "outputs": [
    {
     "data": {
      "text/plain": [
       "390"
      ]
     },
     "execution_count": 20,
     "metadata": {},
     "output_type": "execute_result"
    }
   ],
   "source": [
    "patient['age'].count()"
   ]
  },
  {
   "cell_type": "code",
   "execution_count": 190,
   "metadata": {},
   "outputs": [
    {
     "data": {
      "text/plain": [
       "46.0"
      ]
     },
     "execution_count": 190,
     "metadata": {},
     "output_type": "execute_result"
    }
   ],
   "source": [
    "patient['age'].median()"
   ]
  },
  {
   "cell_type": "code",
   "execution_count": 22,
   "metadata": {
    "scrolled": true
   },
   "outputs": [
    {
     "data": {
      "image/png": "[encoded data removed]",
      "text/plain": [
       "<Figure size 432x288 with 1 Axes>"
      ]
     },
     "metadata": {
      "needs_background": "light"
     },
     "output_type": "display_data"
    }
   ],
   "source": [
    "bar_plot(patient,'age')"
   ]
  },
  {
   "cell_type": "markdown",
   "metadata": {},
   "source": [
    "The data does not look normally distribution, therefore we will look at the median rather than the mean. The median age is 46. "
   ]
  },
  {
   "cell_type": "markdown",
   "metadata": {},
   "source": [
    "## Country\n",
    "\n",
    "*This refers to the patient's nationality*"
   ]
  },
  {
   "cell_type": "code",
   "execution_count": 23,
   "metadata": {
    "scrolled": true
   },
   "outputs": [
    {
     "data": {
      "text/plain": [
       "country\n",
       "China          8\n",
       "Korea       5756\n",
       "Mongolia       1\n",
       "dtype: int64"
      ]
     },
     "execution_count": 23,
     "metadata": {},
     "output_type": "execute_result"
    }
   ],
   "source": [
    "patient_nat = patient.groupby(\"confirmed_date\").size()\n",
    "patient.groupby(\"country\").size()"
   ]
  },
  {
   "cell_type": "code",
   "execution_count": 24,
   "metadata": {},
   "outputs": [
    {
     "data": {
      "image/png": "[encoded data removed]",
      "text/plain": [
       "<Figure size 432x288 with 1 Axes>"
      ]
     },
     "metadata": {
      "needs_background": "light"
     },
     "output_type": "display_data"
    }
   ],
   "source": [
    "bar_plot(patient, 'country')"
   ]
  },
  {
   "cell_type": "code",
   "execution_count": 25,
   "metadata": {},
   "outputs": [],
   "source": [
    "def patient_nationalities(data):\n",
    "    data_grouped = patient.groupby(\"country\").size()\n",
    "    # get nationalities into a list\n",
    "    nationalities = data_grouped.keys()\n",
    "    total_count = 0 \n",
    "    for item in range(len(data_grouped)):\n",
    "        print(\"There are {} patients with nationalities from {}.\".format(data_grouped[item], \n",
    "                                                                       nationalities[item]))\n",
    "        total_count = total_count + data_grouped[item]\n",
    "    print(\"There are {} patients with unknown nationality.\".format(len(data) - total_count))"
   ]
  },
  {
   "cell_type": "code",
   "execution_count": 26,
   "metadata": {},
   "outputs": [
    {
     "name": "stdout",
     "output_type": "stream",
     "text": [
      "There are 8 patients with nationalities from China.\n",
      "There are 5756 patients with nationalities from Korea.\n",
      "There are 1 patients with nationalities from Mongolia.\n",
      "There are 1 patients with unknown nationality.\n"
     ]
    }
   ],
   "source": [
    "patient_nationalities(patient)"
   ]
  },
  {
   "cell_type": "markdown",
   "metadata": {},
   "source": [
    "Major of the patients are of Korean nationality."
   ]
  },
  {
   "cell_type": "markdown",
   "metadata": {},
   "source": [
    "## Region"
   ]
  },
  {
   "cell_type": "code",
   "execution_count": 27,
   "metadata": {},
   "outputs": [
    {
     "name": "stdout",
     "output_type": "stream",
     "text": [
      "region\n",
      "Busan                    2\n",
      "Chungcheongbuk-do        2\n",
      "Chungcheongnam-do        1\n",
      "Daegu                   46\n",
      "Daejeon                 13\n",
      "Gangwon-do               5\n",
      "Gwangju                 10\n",
      "Gyeongsangbuk-do       121\n",
      "Jeju-do                  2\n",
      "Jeollabuk-do             3\n",
      "Ulsan                    2\n",
      "capital area           181\n",
      "filtered at airport      4\n",
      "dtype: int64\n"
     ]
    },
    {
     "data": {
      "image/png": "[encoded data removed]",
      "text/plain": [
       "<Figure size 432x288 with 1 Axes>"
      ]
     },
     "metadata": {
      "needs_background": "light"
     },
     "output_type": "display_data"
    }
   ],
   "source": [
    "print(patient.groupby('region').size())\n",
    "\n",
    "bar_plot(patient, 'region')"
   ]
  },
  {
   "cell_type": "markdown",
   "metadata": {},
   "source": [
    "Majority of the patients are in the capital area (Seoul), Gyeongsangbuk-do, and Daegu respectively. "
   ]
  },
  {
   "cell_type": "markdown",
   "metadata": {},
   "source": [
    "## Infection Reason"
   ]
  },
  {
   "cell_type": "code",
   "execution_count": 207,
   "metadata": {
    "scrolled": true
   },
   "outputs": [
    {
     "name": "stdout",
     "output_type": "stream",
     "text": [
      "140\n"
     ]
    },
    {
     "data": {
      "text/plain": [
       "infection_reason\n",
       " visit to China                       1\n",
       "contact with patient                 71\n",
       "contact with patient in Japan         1\n",
       "contact with patient in Singapore     2\n",
       "pilgrimage to Israel                  6\n",
       "residence in Wuhan                    2\n",
       "visit to Cheongdo Daenam Hospital     1\n",
       "visit to China                        1\n",
       "visit to Daegu                       42\n",
       "visit to Italy                        1\n",
       "visit to Japan                        1\n",
       "visit to Thailand                     2\n",
       "visit to Vietnam                      1\n",
       "visit to Wuhan                        8\n",
       "dtype: int64"
      ]
     },
     "execution_count": 207,
     "metadata": {},
     "output_type": "execute_result"
    }
   ],
   "source": [
    "print(patient['infection_reason'].count())\n",
    "patient.groupby('infection_reason').size()"
   ]
  },
  {
   "cell_type": "markdown",
   "metadata": {},
   "source": [
    "There were 140 patients who were able to provide a reason for how they were infected with the coronavirus. 71 people were infected with direct contact patient. This may include nurses, family, and friends. There was a large number of people were infected between the ages of 35 and 46. Majority of these patients may have been workers at health care center who attended to and took care of the patients already infected with the coronavirus. \n",
    "\n",
    "81% of patients either had direct contact with a current patient with the coronavirus or had visited Daegu\n",
    "\n",
    "\n",
    "Visits to Korea's fourth largest city Daegu is also a top reason for the spread of the coronavirus."
   ]
  },
  {
   "cell_type": "code",
   "execution_count": 29,
   "metadata": {},
   "outputs": [
    {
     "data": {
      "text/plain": [
       "['id',\n",
       " 'sex',\n",
       " 'age',\n",
       " 'country',\n",
       " 'region',\n",
       " 'group',\n",
       " 'infection_reason',\n",
       " 'infection_order',\n",
       " 'infected_by',\n",
       " 'contact_number',\n",
       " 'confirmed_date',\n",
       " 'released_date',\n",
       " 'deceased_date',\n",
       " 'state']"
      ]
     },
     "execution_count": 29,
     "metadata": {},
     "output_type": "execute_result"
    }
   ],
   "source": [
    "list(patient.columns)"
   ]
  },
  {
   "cell_type": "code",
   "execution_count": 30,
   "metadata": {},
   "outputs": [
    {
     "data": {
      "image/png": "[encoded data removed]",
      "text/plain": [
       "<Figure size 432x288 with 1 Axes>"
      ]
     },
     "metadata": {
      "needs_background": "light"
     },
     "output_type": "display_data"
    }
   ],
   "source": [
    "bar_plot(patient, 'released_date')"
   ]
  },
  {
   "cell_type": "code",
   "execution_count": 31,
   "metadata": {},
   "outputs": [
    {
     "data": {
      "image/png": "[encoded data removed]",
      "text/plain": [
       "<Figure size 432x288 with 1 Axes>"
      ]
     },
     "metadata": {
      "needs_background": "light"
     },
     "output_type": "display_data"
    }
   ],
   "source": [
    "bar_plot(patient, 'deceased_date')"
   ]
  },
  {
   "cell_type": "code",
   "execution_count": 32,
   "metadata": {},
   "outputs": [
    {
     "data": {
      "text/plain": [
       "32"
      ]
     },
     "execution_count": 32,
     "metadata": {},
     "output_type": "execute_result"
    }
   ],
   "source": [
    "patient['released_date'].count()"
   ]
  },
  {
   "cell_type": "code",
   "execution_count": 33,
   "metadata": {},
   "outputs": [
    {
     "data": {
      "text/plain": [
       "20"
      ]
     },
     "execution_count": 33,
     "metadata": {},
     "output_type": "execute_result"
    }
   ],
   "source": [
    "patient['deceased_date'].count()"
   ]
  },
  {
   "cell_type": "markdown",
   "metadata": {},
   "source": [
    "At first it may look like there are as many people being released as there are many people dying. However, we see there are only 32 individuals released and 20 individuals who is deceased. We must also consider there is 5766 individuals who have been infected by this virus. Currently, there is a 0.003 probably of dying; that is, **0.3% of the total number of cases result in death.**"
   ]
  },
  {
   "cell_type": "code",
   "execution_count": 34,
   "metadata": {
    "scrolled": true
   },
   "outputs": [
    {
     "name": "stdout",
     "output_type": "stream",
     "text": [
      "we have the ages of 20 people.\n"
     ]
    }
   ],
   "source": [
    "age_deceased_df = patient.groupby(['age','deceased_date']).size()\n",
    "indexes= []\n",
    "for i in range(patient.shape[0]):\n",
    "    if patient['deceased_date'].notnull()[i] == True:\n",
    "        indexes.append(i)\n",
    "        \n",
    "indexes\n",
    "\n",
    "print('we have the ages of {} people.'.format(len(indexes)))"
   ]
  },
  {
   "cell_type": "code",
   "execution_count": 35,
   "metadata": {
    "scrolled": false
   },
   "outputs": [
    {
     "name": "stdout",
     "output_type": "stream",
     "text": [
      "age    64.35\n",
      "dtype: float64\n"
     ]
    },
    {
     "data": {
      "image/png": "[encoded data removed]",
      "text/plain": [
       "<Figure size 432x288 with 1 Axes>"
      ]
     },
     "metadata": {
      "needs_background": "light"
     },
     "output_type": "display_data"
    }
   ],
   "source": [
    "age_df = pd.DataFrame(patient['age'][indexes])\n",
    "print(age_df.mean())\n",
    "bar_plot(age_df, 'age')"
   ]
  },
  {
   "cell_type": "code",
   "execution_count": 186,
   "metadata": {},
   "outputs": [
    {
     "data": {
      "image/png": "[encoded data removed]",
      "text/plain": [
       "<Figure size 432x288 with 1 Axes>"
      ]
     },
     "metadata": {
      "needs_background": "light"
     },
     "output_type": "display_data"
    }
   ],
   "source": [
    "# another way to see the ages of the patients who have died of coronavirus\n",
    "deceased_t_f = patient['deceased_date'].notnull()\n",
    "\n",
    "deceased = []\n",
    "for val in range(len(deceased_t_f)):\n",
    "    if deceased_t_f[val] == True:\n",
    "        deceased.append(1)\n",
    "    else:\n",
    "        deceased.append(0)\n",
    "deceased = pd.DataFrame(deceased)\n",
    "\n",
    "patient['deceased'] = deceased\n",
    "\n",
    "dead = patient['deceased'] == 1\n",
    "ages = patient['age']>0\n",
    "age_dead = patient[ages & dead]\n",
    "\n",
    "print(\"age\")\n",
    "bar_plot(age_dead, 'age')"
   ]
  },
  {
   "cell_type": "markdown",
   "metadata": {},
   "source": [
    "The number of deaths per age is fairly evenly distributed, therefore we can look at the mean. The mean is 64.35. \n",
    "\n",
    "In Korea and North America, a person with senior status is described as a person who is at least 65 years of age. Since the average age of the individuals who are deceased are above 64, then seniors have the most risk after being exposed to the coronavirus. "
   ]
  },
  {
   "cell_type": "code",
   "execution_count": 36,
   "metadata": {
    "scrolled": true
   },
   "outputs": [
    {
     "data": {
      "text/html": [
       "<div>\n",
       "<style scoped>\n",
       "    .dataframe tbody tr th:only-of-type {\n",
       "        vertical-align: middle;\n",
       "    }\n",
       "\n",
       "    .dataframe tbody tr th {\n",
       "        vertical-align: top;\n",
       "    }\n",
       "\n",
       "    .dataframe thead th {\n",
       "        text-align: right;\n",
       "    }\n",
       "</style>\n",
       "<table border=\"1\" class=\"dataframe\">\n",
       "  <thead>\n",
       "    <tr style=\"text-align: right;\">\n",
       "      <th></th>\n",
       "      <th>age</th>\n",
       "      <th>deceased_date</th>\n",
       "    </tr>\n",
       "  </thead>\n",
       "  <tbody>\n",
       "    <tr>\n",
       "      <td>0</td>\n",
       "      <td>36.0</td>\n",
       "      <td>NaN</td>\n",
       "    </tr>\n",
       "    <tr>\n",
       "      <td>1</td>\n",
       "      <td>56.0</td>\n",
       "      <td>NaN</td>\n",
       "    </tr>\n",
       "    <tr>\n",
       "      <td>2</td>\n",
       "      <td>54.0</td>\n",
       "      <td>NaN</td>\n",
       "    </tr>\n",
       "    <tr>\n",
       "      <td>3</td>\n",
       "      <td>56.0</td>\n",
       "      <td>NaN</td>\n",
       "    </tr>\n",
       "    <tr>\n",
       "      <td>4</td>\n",
       "      <td>33.0</td>\n",
       "      <td>NaN</td>\n",
       "    </tr>\n",
       "    <tr>\n",
       "      <td>...</td>\n",
       "      <td>...</td>\n",
       "      <td>...</td>\n",
       "    </tr>\n",
       "    <tr>\n",
       "      <td>5761</td>\n",
       "      <td>NaN</td>\n",
       "      <td>NaN</td>\n",
       "    </tr>\n",
       "    <tr>\n",
       "      <td>5762</td>\n",
       "      <td>NaN</td>\n",
       "      <td>NaN</td>\n",
       "    </tr>\n",
       "    <tr>\n",
       "      <td>5763</td>\n",
       "      <td>NaN</td>\n",
       "      <td>NaN</td>\n",
       "    </tr>\n",
       "    <tr>\n",
       "      <td>5764</td>\n",
       "      <td>NaN</td>\n",
       "      <td>NaN</td>\n",
       "    </tr>\n",
       "    <tr>\n",
       "      <td>5765</td>\n",
       "      <td>NaN</td>\n",
       "      <td>NaN</td>\n",
       "    </tr>\n",
       "  </tbody>\n",
       "</table>\n",
       "<p>5766 rows × 2 columns</p>\n",
       "</div>"
      ],
      "text/plain": [
       "       age deceased_date\n",
       "0     36.0           NaN\n",
       "1     56.0           NaN\n",
       "2     54.0           NaN\n",
       "3     56.0           NaN\n",
       "4     33.0           NaN\n",
       "...    ...           ...\n",
       "5761   NaN           NaN\n",
       "5762   NaN           NaN\n",
       "5763   NaN           NaN\n",
       "5764   NaN           NaN\n",
       "5765   NaN           NaN\n",
       "\n",
       "[5766 rows x 2 columns]"
      ]
     },
     "execution_count": 36,
     "metadata": {},
     "output_type": "execute_result"
    }
   ],
   "source": [
    "age_dd = pd.DataFrame(patient[['age', 'deceased_date']])\n",
    "age_dd\n",
    "\n",
    "\n",
    "# could consider visualing the number of deaths per \n",
    "#  each range of age groups "
   ]
  },
  {
   "cell_type": "code",
   "execution_count": 80,
   "metadata": {},
   "outputs": [],
   "source": []
  },
  {
   "cell_type": "code",
   "execution_count": 38,
   "metadata": {},
   "outputs": [
    {
     "data": {
      "text/plain": [
       "<matplotlib.axes._subplots.AxesSubplot at 0x119902e50>"
      ]
     },
     "execution_count": 38,
     "metadata": {},
     "output_type": "execute_result"
    },
    {
     "data": {
      "image/png": "[encoded data removed]",
      "text/plain": [
       "<Figure size 432x288 with 1 Axes>"
      ]
     },
     "metadata": {
      "needs_background": "light"
     },
     "output_type": "display_data"
    }
   ],
   "source": [
    "released = pd.to_datetime(patient['released_date'])\n",
    "confirmed = pd.to_datetime(patient['confirmed_date'])\n",
    "\n",
    "days_in_hospital = pd.DataFrame({'diff':released - confirmed})\n",
    "\n",
    "days_in_hospital.groupby('diff').size().plot.bar()\n"
   ]
  },
  {
   "cell_type": "code",
   "execution_count": 39,
   "metadata": {},
   "outputs": [
    {
     "name": "stdout",
     "output_type": "stream",
     "text": [
      "mean is,  diff   14 days 16:30:00\n",
      "dtype: timedelta64[ns]\n",
      "median is,  diff   15 days 12:00:00\n",
      "dtype: timedelta64[ns]\n"
     ]
    }
   ],
   "source": [
    "print('mean is, ', days_in_hospital.mean())\n",
    "print('median is, ',days_in_hospital.median())"
   ]
  },
  {
   "cell_type": "code",
   "execution_count": 40,
   "metadata": {},
   "outputs": [
    {
     "data": {
      "image/png": "[encoded data removed]",
      "text/plain": [
       "<Figure size 432x288 with 1 Axes>"
      ]
     },
     "metadata": {
      "needs_background": "light"
     },
     "output_type": "display_data"
    }
   ],
   "source": [
    "bar_plot(patient, 'state')"
   ]
  },
  {
   "cell_type": "code",
   "execution_count": 188,
   "metadata": {},
   "outputs": [
    {
     "data": {
      "text/plain": [
       "state\n",
       "deceased      20\n",
       "isolated    5710\n",
       "released      35\n",
       "dtype: int64"
      ]
     },
     "execution_count": 188,
     "metadata": {},
     "output_type": "execute_result"
    }
   ],
   "source": [
    "patient.groupby('state').size()"
   ]
  },
  {
   "cell_type": "markdown",
   "metadata": {},
   "source": [
    "There has only been a small number of people released from the hospital and is not deceased. The present is presumed to be in isolation. The median time a person spent in the hospital is 15 days. Which is 1 day more than the recommended 15 while the average time is 14 days. By either metric, patients are kept isolated for approximately 2 weeks. There are also some individuals who are isolated for over the recommended and average time of 14 days (2 weeks). "
   ]
  },
  {
   "cell_type": "code",
   "execution_count": 41,
   "metadata": {},
   "outputs": [
    {
     "data": {
      "text/plain": [
       "state\n",
       "deceased      20\n",
       "isolated    5710\n",
       "released      35\n",
       "dtype: int64"
      ]
     },
     "execution_count": 41,
     "metadata": {},
     "output_type": "execute_result"
    }
   ],
   "source": [
    "patient.groupby('state').size()"
   ]
  },
  {
   "cell_type": "markdown",
   "metadata": {},
   "source": [
    "We see there are many more people who are being isolated than released or are deceased. It is likely most of these individals are between the ages of 35 to 46 and had contracted the coronavirus "
   ]
  }
 ],
 "metadata": {
  "kernelspec": {
   "display_name": "Python 3",
   "language": "python",
   "name": "python3"
  },
  "language_info": {
   "codemirror_mode": {
    "name": "ipython",
    "version": 3
   },
   "file_extension": ".py",
   "mimetype": "text/x-python",
   "name": "python",
   "nbconvert_exporter": "python",
   "pygments_lexer": "ipython3",
   "version": "3.7.3"
  }
 },
 "nbformat": 4,
 "nbformat_minor": 2
}
